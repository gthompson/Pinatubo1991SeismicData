{
 "cells": [
  {
   "cell_type": "code",
   "execution_count": null,
   "id": "d24f7820",
   "metadata": {},
   "outputs": [],
   "source": [
    "# Do all library imports first\n",
    "import obspy.core as op\n",
    "import glob\n",
    "import matplotlib.pyplot as plt\n",
    "import os\n",
    "import shutil\n",
    "import pandas as pd\n",
    "\n",
    "# Set up all paths that will be used\n",
    "os.chdir('D:\\Dropbox\\DATA\\Pinatubo')\n",
    "net = 'XB' # assigned by Gale Cox. 1R is code for KSC.\n",
    "seisanDBname = 'PNTBO'\n",
    "WAVEFORM_DIR = 'WAVEFORMS'\n",
    "\n",
    "print('Paths setup okay')"
   ]
  },
  {
   "cell_type": "code",
   "execution_count": null,
   "id": "b9c089bf",
   "metadata": {},
   "outputs": [],
   "source": [
    "# Loop over all files\n",
    "alldirs = sorted(glob.glob(os.path.join(WAVEFORM_DIR, '*')))\n",
    "lod = []\n",
    "list_of_stations = []\n",
    "for thisdir in alldirs:\n",
    "    allDMXfiles = sorted(glob.glob(os.path.join(thisdir, '*.DMX')))\n",
    "    for DMXfile in allDMXfiles:\n",
    "        thisd = {'DMXfile':os.path.basename(DMXfile), 'time':0, 'nTraces':0, 'Fs':0, 'npts':0, 'WAV':''}\n",
    "        try:\n",
    "            st = op.read(DMXfile, headonly=True)\n",
    "            for tr in st:\n",
    "                list_of_stations.append(tr.stats.station)    \n",
    "        except:\n",
    "            print(os.path.basename(DMXfile), 0, 0, 0, 0)\n",
    "        else:\n",
    "            thisd['time']=st[0].stats.starttime\n",
    "            thisd['nTraces']=len(st)\n",
    "            thisd['Fs']=st[0].stats.sampling_rate\n",
    "            thisd['npts']=st[0].stats.npts\n",
    "            thisd['WAV']=\"%sM.%s_%03d\" % (st[0].stats.starttime.strftime('%Y-%m-%d-%H%M-%S'), seisanDBname, len(st))\n",
    "            #1995-01-23-1230-20M.BERGE_013\n",
    "        print(thisd)\n",
    "        lod.append(thisd)\n",
    "df = pd.DataFrame(lod)\n",
    "df.to_csv('ListDMXfiles_v2.csv')"
   ]
  },
  {
   "cell_type": "code",
   "execution_count": null,
   "id": "1a661726",
   "metadata": {},
   "outputs": [],
   "source": [
    "import numpy as np\n",
    "plt.figure()\n",
    "ax = plt.subplot(111)\n",
    "dtime=[]\n",
    "for i,row in df.iterrows():\n",
    "    if row['nTraces']>0:\n",
    "        dtime.append(row['time'].datetime)\n",
    "ax.plot(dtime, np.cumsum(np.ones(len(dtime))))\n",
    "ax.xaxis_date()\n",
    "\n",
    "plt.show()"
   ]
  },
  {
   "cell_type": "code",
   "execution_count": null,
   "id": "3c20b6bb",
   "metadata": {},
   "outputs": [],
   "source": [
    "print('number of DMX files = %d' % len(df.index))"
   ]
  },
  {
   "cell_type": "code",
   "execution_count": null,
   "id": "15521475",
   "metadata": {},
   "outputs": [],
   "source": [
    "list_of_stations = sorted(set(list_of_stations))\n",
    "print('List of stations:\\n',list_of_stations)"
   ]
  },
  {
   "cell_type": "code",
   "execution_count": null,
   "id": "33118e24",
   "metadata": {},
   "outputs": [],
   "source": [
    "def fix_traceid(sta):\n",
    "    if sta=='IRIG':\n",
    "        return '.IRIG..'\n",
    "    newchan = 'EH' + sta[-1]\n",
    "    newsta = sta[:-1]\n",
    "    loc = '00'\n",
    "    \n",
    "    traceid = '%s.%s.%s.%s' % (net, newsta, loc, newchan)\n",
    "    return traceid\n",
    "for sta in list_of_stations:\n",
    "    print(sta, fix_traceid(sta))\n"
   ]
  },
  {
   "cell_type": "code",
   "execution_count": null,
   "id": "e3bab0aa",
   "metadata": {},
   "outputs": [],
   "source": [
    "#station_uptime = pd.DataFrame(columns=list_of_stations)\n",
    "list_of_stations = ['IRIG', 'BUGZ', 'BURZ', 'CABN', 'CABZ', 'CRWZ', 'DONZ', 'FNGZ', 'GRNZ', 'PI2Z',\n",
    "                    'PIEZ', 'PPOE', 'PPON', 'PPOZ', 'QADZ', 'UBOZ']\n",
    "alldirs = sorted(glob.glob(os.path.join(WAVEFORM_DIR, '*')))\n",
    "lod = []\n",
    "for thisdir in alldirs:\n",
    "    allDMXfiles = sorted(glob.glob(os.path.join(thisdir, '*.DMX')))\n",
    "    for DMXfile in allDMXfiles:\n",
    "        print(DMXfile)\n",
    "        thisd = dict()\n",
    "        for sta in list_of_stations:\n",
    "            thisd[sta]=False\n",
    "        try:\n",
    "            st = op.read(DMXfile, headonly=True)\n",
    "            for tr in st:\n",
    "                thisd[tr.stats.station]=True  \n",
    "        except:\n",
    "            print(os.path.basename(DMXfile), 0, 0, 0, 0)\n",
    "        #print(thisd)\n",
    "        lod.append(thisd)\n",
    "station_uptime = pd.DataFrame(lod)\n",
    "station_uptime.to_csv('station_uptime.csv')\n",
    "df = pd.concat([df.reset_index(drop=True),station_uptime.reset_index(drop=True)], axis=1)\n",
    "df.to_csv('indexDMXfiles.csv')"
   ]
  },
  {
   "cell_type": "code",
   "execution_count": null,
   "id": "f02ac4e4",
   "metadata": {},
   "outputs": [],
   "source": [
    "print(station_uptime)"
   ]
  },
  {
   "cell_type": "code",
   "execution_count": null,
   "id": "c702d3b4",
   "metadata": {},
   "outputs": [],
   "source": [
    "dfsum = station_uptime.sum(axis=0)\n",
    "print(dfsum)"
   ]
  },
  {
   "cell_type": "code",
   "execution_count": null,
   "id": "e4967bd5",
   "metadata": {},
   "outputs": [],
   "source": [
    "# Find out ondate and offdates for each station - INCOMPLETE\n",
    "df = pd.read_csv('ListDMXfiles.csv')\n",
    "station_uptime['time']=df['time']"
   ]
  },
  {
   "cell_type": "code",
   "execution_count": null,
   "id": "e268f841",
   "metadata": {},
   "outputs": [],
   "source": []
  }
 ],
 "metadata": {
  "kernelspec": {
   "display_name": "Python 3 (ipykernel)",
   "language": "python",
   "name": "python3"
  },
  "language_info": {
   "codemirror_mode": {
    "name": "ipython",
    "version": 3
   },
   "file_extension": ".py",
   "mimetype": "text/x-python",
   "name": "python",
   "nbconvert_exporter": "python",
   "pygments_lexer": "ipython3",
   "version": "3.9.7"
  }
 },
 "nbformat": 4,
 "nbformat_minor": 5
}
