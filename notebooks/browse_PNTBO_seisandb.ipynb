{
 "cells": [
  {
   "cell_type": "code",
   "execution_count": null,
   "id": "fa14ec13",
   "metadata": {
    "scrolled": false
   },
   "outputs": [],
   "source": [
    "import os\n",
    "import glob\n",
    "import obspy\n",
    "dbname = 'PNTBO'\n",
    "dbpath = os.path.join( os.getenv('HOME'), 'Dropbox', 'DATA', 'SEISAN_DB', 'WAV', dbname)\n",
    "if not os.path.isdir(dbpath):\n",
    "    print('%s does not exist. Bye!' % dbpath)\n",
    "YYYY = '1991'\n",
    "MM = '12'\n",
    "yyyymmdir = os.path.join(dbpath, YYYY, MM)\n",
    "mseedfiles = glob.glob(os.path.join(yyyymmdir, '%s-%s*M.PNTBO_*' % (YYYY, MM) ))\n",
    "for mseedfile in mseedfiles:\n",
    "    print(mseedfile)\n",
    "    st = obspy.read(mseedfile)\n",
    "    print(st)\n",
    "    for tr in st:\n",
    "        old_id = tr.id\n",
    "        tr.stats.sampling_rate=100.0 # otherwise coming in as 100.8 Hz\n",
    "        tr.stats.network = 'XB' # assigned by Gale Cox on April 7, 2023\n",
    "        tr.stats.channel = 'EH%s' % tr.stats.station[-1] \n",
    "            # E for short period sensor at 100 Hz\n",
    "            # H for high gain \n",
    "            # Z, N, or E channel component was part of station name\n",
    "        tr.stats.station = tr.stats.station[:-1] # cut off channel component from name\n",
    "        print(old_id, '->', tr.id)\n",
    "    print(st)\n",
    "    st.plot(equal_scale=False)\n",
    "    choice = input('ENTER for next event, q to quit')\n",
    "    if choice=='q':\n",
    "        break\n",
    "    "
   ]
  },
  {
   "cell_type": "code",
   "execution_count": null,
   "id": "0f81fe23",
   "metadata": {},
   "outputs": [],
   "source": []
  }
 ],
 "metadata": {
  "kernelspec": {
   "display_name": "Python 3 (ipykernel)",
   "language": "python",
   "name": "python3"
  },
  "language_info": {
   "codemirror_mode": {
    "name": "ipython",
    "version": 3
   },
   "file_extension": ".py",
   "mimetype": "text/x-python",
   "name": "python",
   "nbconvert_exporter": "python",
   "pygments_lexer": "ipython3",
   "version": "3.8.8"
  }
 },
 "nbformat": 4,
 "nbformat_minor": 5
}
