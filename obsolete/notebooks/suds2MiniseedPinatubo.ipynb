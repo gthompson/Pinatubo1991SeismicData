{
 "cells": [
  {
   "cell_type": "markdown",
   "metadata": {},
   "source": [
    "# SUDS to MiniSEED single event converter for Pinatubo data\n",
    "This Python3 notebook demonstrates how to convert a PC-SUDS seismic waveform data file into Miniseed\n",
    "It requires Win-SUDS Utilities (for programs demux.exe, irig.exe and sud2sac.exe) and ObsPy. However, there is a new capability to read DMX files directly into ObsPy. By comparing that with results of loading SAC files from sud2sac.exe, I've figured out how to wrap the DMX reader to end up with the same data array, through subtracting 2048 and converting from uint16 to float, and removing 'unk' from network code. However, sample rates are still subtley different and I don't know what correct value is. DMX reader gets ~100.8 Hz, SAC files have 100.6-100.9, and presumably the clock was set to 100 Hz but not accurate. "
   ]
  },
  {
   "cell_type": "markdown",
   "metadata": {},
   "source": [
    "Do all library imports first"
   ]
  },
  {
   "cell_type": "code",
   "execution_count": null,
   "metadata": {},
   "outputs": [],
   "source": [
    "import obspy.core as op\n",
    "import glob\n",
    "import matplotlib.pyplot as plt\n",
    "import os\n",
    "import shutil"
   ]
  },
  {
   "cell_type": "markdown",
   "metadata": {},
   "source": [
    "Set up all paths that will be used"
   ]
  },
  {
   "cell_type": "code",
   "execution_count": null,
   "metadata": {},
   "outputs": [],
   "source": [
    "os.chdir('C:\\DATA\\Pinatubo')\n",
    "\n",
    "WINSUDSPATH = os.path.join('C:\\\\', 'winsuds','bin')\n",
    "#SUDSbasename = 'waveforms/May91/9105010W'\n",
    "WAVEFORM_DIR = 'WAVEFORMS'\n",
    "CONVERT_DIR = 'convert'\n",
    "#originalWaveformFile = os.path.join(WAVEFORM_DIR, 'May91', '9105011P.DMX')\n",
    "originalWaveformFile = os.path.join(WAVEFORM_DIR, 'Dec91', '9112010B.DMX')\n",
    "DMXbasename = os.path.basename(originalWaveformFile)\n",
    "DMXfile = os.path.join(CONVERT_DIR, 'original',DMXbasename) # original\n",
    "\n",
    "IRIGfile = os.path.join(CONVERT_DIR, 'irig', DMXbasename) # produced by irig.exe\n",
    "IRIGcopy = os.path.join(CONVERT_DIR, 'sac', DMXbasename)\n",
    "SACbasename = os.path.join(CONVERT_DIR, 'sac', DMXbasename.replace('.DMX', '.sac')) # produced  by sud2sac.exe\n",
    "MSEEDfile0 = os.path.join(CONVERT_DIR, 'original', DMXbasename.replace('.DMX', '.ms')) # produced by sud2msed.exe\n",
    "MSEEDfile1 = os.path.join(CONVERT_DIR, 'irig', DMXbasename.replace('.DMX', '.ms')) # produced by sud2msed.exe\n",
    "MSEEDfile2 = os.path.join(CONVERT_DIR, 'sac', DMXbasename.replace('.DMX', '.mseed')) # produced by recombining SAC file\n",
    "PHAfile = SUDSbasename + '.PHA' # this might exist if HYPO71 was run to locate the event\n",
    "#PUNfile = SUDSbasename + '.PUN' # this might exist if HYPO71 was run and generated a hypocenter\n",
    "demux = os.path.join(WINSUDSPATH, 'demux.exe')\n",
    "irig = os.path.join(WINSUDSPATH, 'irig.exe')\n",
    "sud2sac = os.path.join(WINSUDSPATH, 'sud2sac.exe')\n",
    "sud2msed = os.path.join(WINSUDSPATH, 'sud2msed.exe')\n",
    "sudsplot = os.path.join(WINSUDSPATH, 'sudsplot.exe')\n",
    "print('Paths setup okay')\n",
    "\n",
    "def read_DMX_file(DMXfile):\n",
    "    # I have found this produces same result as converting DMX to SAC with sud2sac.exe in Win-SUDS, and then reading into ObsPy\n",
    "    # Tested only on Pinatubo 1991 data\n",
    "    # DMXfile is normally read in as uint16 and so is all +ve. But SUDS data must actually be 2s-complement or sign bit, because\n",
    "    # sud2sac.exe converts to numbers either size of 0. Difference always seems to be 2048. \n",
    "    # Obspy Miniseed writer needs float, not int, so will crash unless recast as float.\n",
    "    # However, sampling rates between DMX and SAC are different\n",
    "    st = op.read(DMXfile)\n",
    "    for tr in st:\n",
    "        if tr.stats.station=='IRIG':\n",
    "            st.remove(tr) # we do not want to keep the IRIG trace\n",
    "        if all(tr.data==0):\n",
    "            st.remove(tr)\n",
    "        if tr.stats.network == 'unk':\n",
    "            tr.stats.network = ''\n",
    "        tr.data = tr.data.astype(float) - 2048.0     \n",
    "    return st\n"
   ]
  },
  {
   "cell_type": "markdown",
   "metadata": {},
   "source": [
    "Check that orignal DMX file can be read by ObsPy"
   ]
  },
  {
   "cell_type": "code",
   "execution_count": null,
   "metadata": {
    "scrolled": false
   },
   "outputs": [],
   "source": [
    "shutil.copyfile(originalWaveformFile, DMXfile)\n",
    "\n",
    "try:\n",
    "    print(DMXfile)\n",
    "    st = read_DMX_file(DMXfile)\n",
    "    print('- read okay')\n",
    "    print(st) \n",
    "    try:\n",
    "        print('Writing DMX file data to %s with ObsPy' % MSEEDfile0)\n",
    "        st.write(MSEEDfile0, 'mseed')\n",
    "        print('- Success')\n",
    "    except:\n",
    "        print('- FAILED')    \n",
    "except:\n",
    "    print('- ObsPy cannot read this demultiplexed SUDS format')"
   ]
  },
  {
   "cell_type": "markdown",
   "metadata": {},
   "source": [
    "Time correct the DMX file and convert to SAC files. \n",
    "\n",
    "Then read in, plot, and attempt top write to MiniSEED.\n",
    "\n",
    "Note: DMX read support now (2023) included in ObsPy. Was not available for the Montserrat ASN conversion in 2019."
   ]
  },
  {
   "cell_type": "code",
   "execution_count": null,
   "metadata": {
    "scrolled": false
   },
   "outputs": [],
   "source": [
    "\n",
    "if os.path.exists(DMXfile): # if DMX file exists, time correct it then convert to SAC\n",
    "    if not os.path.exists(IRIGfile):\n",
    "        shutil.copyfile(DMXfile, IRIGfile)\n",
    "        print('Time correcting ' + IRIGfile)\n",
    "        os.system(irig + ' ' + IRIGfile)\n",
    "    \n",
    "    print('Reading ' + IRIGfile)\n",
    "    try:\n",
    "        st2 = read_DMX_file(IRIGfile)\n",
    "        print('- Success')\n",
    "        for tr in st:\n",
    "            tr.plot();\n",
    "    except:\n",
    "        print('- FAILED')\n",
    "    else:\n",
    "        print(st2) \n",
    "        try:\n",
    "            print('Writing DMX-IRIG file data to %s with ObsPy' % MSEEDfile1)\n",
    "            st2.write(MSEEDfile1, 'mseed')\n",
    "            print('- Success')\n",
    "        except:\n",
    "            print('- FAILED')\n",
    "    \n",
    "\n",
    "else:\n",
    "    print(DMXfile + ' does not exist')\n",
    "    "
   ]
  },
  {
   "cell_type": "markdown",
   "metadata": {},
   "source": [
    "Convert IRIG DMX file to SAC files with sud2sac.exe\n",
    "\n",
    "Note that we found that sud2msed does not read trace headers, it just produces one trace from many and also has an incorrect start time. This is why we use sud2sac, which we have checked against sudsplot.exe and shows the correct trace headers, waveforms and times.\n",
    "\n",
    "Merge the SAC files into a single Miniseed file. "
   ]
  },
  {
   "cell_type": "code",
   "execution_count": null,
   "metadata": {},
   "outputs": [],
   "source": [
    "print(os.getcwd())\n",
    "if os.path.exists(IRIGfile): \n",
    "    # ALTERNATIVE: Rather than reading into ObsPy and saving to Miniseed\n",
    "    # convert to sac first, then read in. And compare.\n",
    "    # This produces one file per trace\n",
    "    print('Converting ' + IRIGfile + ' to SAC files')\n",
    "    if not os.path.exists(IRIGcopy):\n",
    "        shutil.copy(IRIGfile, IRIGcopy)\n",
    "    print(sud2sac + ' '  + IRIGcopy)    \n",
    "    os.system(sud2sac + ' ' + IRIGcopy)\n",
    "    \n",
    "    # Now merge the SAC files into a single valid Miniseed file    \n",
    "    print('Reading from SAC files')\n",
    "    st3 = op.Stream()\n",
    "    sacfilelist = glob.glob(SACbasename + '-???')\n",
    "    print(sacfilelist)\n",
    "    if len(sacfilelist) > 0:\n",
    "        for sacfile in sacfilelist:\n",
    "            print('- Reading ' + sacfile)\n",
    "            try:\n",
    "                sacst = op.read(sacfile)   \n",
    "                #tr.plot();\n",
    "            except:\n",
    "                print('  - FAILED')\n",
    "            else:\n",
    "                for tr in sacst:\n",
    "                    tr2 = tr.copy().detrend()\n",
    "                    if not (all(tr2.data==0)):\n",
    "                        st3 = st3 + tr\n",
    "        print(st3)\n",
    "        #st3.plot(equal_scale=False);\n",
    "        \n",
    "        print('Writing SAC file data to %s with ObsPy' % MSEEDfile2)\n",
    "        try:\n",
    "            st3.write(MSEEDfile2, 'mseed')\n",
    "            print('- Success')\n",
    "        except:\n",
    "            print('- FAILED')\n",
    "    else:\n",
    "        print('FAILED. No SAC files found matching ' + SACbasename)\n",
    "else:\n",
    "    print(IRIGfile + ' NOT FOUND')"
   ]
  },
  {
   "cell_type": "markdown",
   "metadata": {},
   "source": [
    "Compare all 3 MiniSEED files. Are they the same?"
   ]
  },
  {
   "cell_type": "code",
   "execution_count": null,
   "metadata": {
    "scrolled": false
   },
   "outputs": [],
   "source": [
    "st0 = op.read(MSEEDfile0)\n",
    "st1 = op.read(MSEEDfile1)\n",
    "st2 = op.read(MSEEDfile2)\n",
    "\n",
    "def compare_Streams(st0, st1):\n",
    "    ids0 = [tr.id for tr in st0]\n",
    "    ids1 = [tr.id for tr in st1]\n",
    "    print('trace ID lists are same')\n",
    "    print(' ')\n",
    "    if not ((ids0==ids1) and (ids0==ids2)):\n",
    "        print('trace ID lists are different')\n",
    "        print(ids0)\n",
    "        print(ids1)        \n",
    "    for i,tr0 in enumerate(st0):\n",
    "        okay = True\n",
    "        if not tr0.stats.npts == st1[i].stats.npts:\n",
    "            print(\"different number of samples\") \n",
    "            print(tr0.stats.npts, st1[i].stats.npts) \n",
    "            okay = False        \n",
    "        if not tr0.stats.sampling_rate == st1[i].stats.sampling_rate:\n",
    "            print(\"different sampling rates\") \n",
    "            print(tr0.stats.sampling_rate, st1[i].stats.sampling_rate) \n",
    "            okay = False\n",
    "        if not (all(tr0.times()==st1[i].times())):\n",
    "            print(\"different time array\")   \n",
    "            okay = False\n",
    "            if not (tr0.stats.starttime==st1[i].stats.starttime):\n",
    "                print('different start times')\n",
    "                print(tr0.stats.starttime, st1[i].stats.starttime)\n",
    "            if not (tr0.times()[-1]==st1[i].times()[-1]):\n",
    "                print('dfferent end times')\n",
    "                print(tr0.times()[-1], st1[i].times()[-1])\n",
    "        if not (all(tr0.data==st1[i].data)):\n",
    "            print(\"different data array\")\n",
    "            same=(tr0.data==st1[i].data)\n",
    "            diff1=st1[i].data - tr0.data\n",
    "            print('Out of %d samples, %d same' % (tr0.stats.npts, same.sum())\n",
    "            print('Differences: max: %f, mean: %f' % (np.max(diff1), np.mean(diff1)))\n",
    "            okay = False    \n",
    "        if okay:\n",
    "            print(tr0.id,' is okay')\n",
    "        else:\n",
    "            print(tr0.id,' FAILED')\n",
    "            tr0.plot();\n",
    "            st1[i].plot();\n",
    "        print(' ')    \n",
    "                  \n",
    "compare_streams(st0, st1)\n",
    "compare_streams(st0, st2)"
   ]
  },
  {
   "cell_type": "code",
   "execution_count": null,
   "metadata": {},
   "outputs": [],
   "source": [
    "# SUDSplot can be used to compare if Miniseed conversion was accurate\n",
    "os.system(sudsplot + ' ' + DMXfile)"
   ]
  },
  {
   "cell_type": "markdown",
   "metadata": {},
   "source": [
    "Add this Miniseed event waveform file to the Seisan database.\n",
    "The Miniseed file will be moved to [SEISANTOP]/WAV/[SEISANDB]/YYYY/MM\n",
    "A corresponding Seisan S-file (event metadata file) will be created at [SEISANTOP]/REA/[SEISANDB]/YYYY/MM\n",
    "\n",
    "The Seisan programs MAKEREA and AUTOREG are used here. Since they normally require user input, we create files to simulate this."
   ]
  },
  {
   "cell_type": "code",
   "execution_count": null,
   "metadata": {},
   "outputs": [],
   "source": [
    "seisanDBname = 'PNTBO'\n",
    "yy = DMXbasename[0:2]\n",
    "mm = DMXbasename[2:4]\n",
    "century = '19'\n",
    "if yy < '80':\n",
    "    century = '20'\n",
    "yyyy = century + yy\n",
    "fptr = open('makerea_wrapper.txt','w')\n",
    "fptr.write(seisanDBname + '\\n')\n",
    "fptr.write(yyyy + mm + '\\n')\n",
    "fptr.write('\\n')\n",
    "fptr.write('BOTH\\n')\n",
    "fptr.close()\n",
    "os.system('makerea < makerea_wrapper.txt')"
   ]
  },
  {
   "cell_type": "markdown",
   "metadata": {},
   "source": [
    "Copy the miniseed file to WOR BEFORE running dirf and autoreg"
   ]
  },
  {
   "cell_type": "code",
   "execution_count": null,
   "metadata": {},
   "outputs": [],
   "source": [
    "WORpath = os.path.join(os.getenv('SEISAN_TOP'),'WOR')\n",
    "WORfile = os.path.join(WORpath, os.path.basename(MSEEDfile2))\n",
    "cwd=os.getcwd()\n",
    "print('cwd = ' + cwd)\n",
    "shutil.copyfile(MSEEDfile2, WORfile)\n",
    "\n",
    "os.chdir(WORpath)\n",
    "os.system('dirf ' + os.path.basename(WORfile))\n",
    "fptr = open('autoreg_wrapper.txt','w')\n",
    "fptr.write('L\\n')\n",
    "fptr.write('m\\n')\n",
    "fptr.write(seisanDBname + '\\n')\n",
    "fptr.write('gt\\n')\n",
    "fptr.close()\n",
    "os.system('autoreg < autoreg_wrapper.txt')\n",
    "os.chdir(cwd)"
   ]
  },
  {
   "cell_type": "markdown",
   "metadata": {},
   "source": [
    "Can now browse event with:\n",
    "    eev 199110 PNTBO\n",
    "    \n",
    "Can also view the latest S-File with the code below:"
   ]
  },
  {
   "cell_type": "code",
   "execution_count": null,
   "metadata": {},
   "outputs": [],
   "source": [
    "def findLatestFile(dirpath):\n",
    "    lists = os.listdir(dirpath)                                   \n",
    "    lists.sort(key=lambda fn:os.path.getmtime(os.path.join(dirpath, fn)))\n",
    "    return os.path.join(dirpath,lists[-1])\n",
    "\n",
    "def displayFile(dirpath):\n",
    "    if os.path.exists(dirpath):\n",
    "        fptr = open(dirpath, 'r')\n",
    "        str = fptr.read()\n",
    "        print(str)\n",
    "    else:\n",
    "        print(dirpath + ' not found')\n",
    "\n",
    "SFILE = findLatestFile(os.path.join(os.environ['SEISAN_TOP'],'REA',seisanDBname,yyyy,mm))\n",
    "print(SFILE)\n",
    "displayFile(SFILE)"
   ]
  }
 ],
 "metadata": {
  "kernelspec": {
   "display_name": "Python 3 (ipykernel)",
   "language": "python",
   "name": "python3"
  },
  "language_info": {
   "codemirror_mode": {
    "name": "ipython",
    "version": 3
   },
   "file_extension": ".py",
   "mimetype": "text/x-python",
   "name": "python",
   "nbconvert_exporter": "python",
   "pygments_lexer": "ipython3",
   "version": "3.9.7"
  }
 },
 "nbformat": 4,
 "nbformat_minor": 2
}
